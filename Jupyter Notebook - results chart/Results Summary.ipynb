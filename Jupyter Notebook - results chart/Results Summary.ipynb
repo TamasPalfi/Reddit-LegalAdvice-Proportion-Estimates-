{
 "cells": [
  {
   "cell_type": "code",
   "execution_count": 2,
   "metadata": {},
   "outputs": [],
   "source": [
    "#import statements\n",
    "import pandas as pd\n",
    "import matplotlib as mb\n",
    "import plotly.figure_factory as ff"
   ]
  },
  {
   "cell_type": "code",
   "execution_count": null,
   "metadata": {},
   "outputs": [],
   "source": [
    "#set up the data matrix for the test/inference data count distribution \n",
    "data_matrix = [['Year-Month', 'Original Size of month file', 'Post Pre-Processing size', 'Posts Expunged'],\n",
    "               ['15-Jan', 5120, 5001, 119],\n",
    "               ['15-Feb', 4822, 4685, 137],\n",
    "               ['15-Mar', 5617, 5478, 139],\n",
    "               ['15-Apr', 5422, 5285, 137],\n",
    "               ['15-May', 6337, 6167, 170],\n",
    "               ['15-Jun', 6623, 6091, 532],\n",
    "               ['15-Jul', 8031, 7785, 246],\n",
    "               ['15-Aug', 8024, 7482, 542],\n",
    "               ['15-Sep', 8603, 6642, 1961],\n",
    "               ['15-Oct', 8551, 6617, 1934],\n",
    "               ['15-Nov', 7490, 5899, 1591],\n",
    "               ['15-Dec', 8551, 6617, 1934],\n",
    "               ['16-Jan', 8574, 6835, 1739],\n",
    "               ['16-Feb', 8231, 6405, 1826],\n",
    "               ['16-Mar', 8829, 6754, 2075],\n",
    "               ['16-Apr', 8718, 6747, 1971],\n",
    "               ['16-May', 8817, 6792, 2025],\n",
    "               \n",
    "]\n",
    "]\n",
    "]\n",
    "]\n",
    "]\n",
    "]\n",
    "]\n",
    "]\n",
    "]\n",
    "]\n",
    "]\n",
    "]\n",
    "]\n",
    "]\n",
    "               \n",
    "            "
   ]
  },
  {
   "cell_type": "code",
   "execution_count": null,
   "metadata": {},
   "outputs": [],
   "source": []
  },
  {
   "cell_type": "code",
   "execution_count": null,
   "metadata": {},
   "outputs": [],
   "source": []
  }
 ],
 "metadata": {
  "kernelspec": {
   "display_name": "Python 3",
   "language": "python",
   "name": "python3"
  },
  "language_info": {
   "codemirror_mode": {
    "name": "ipython",
    "version": 3
   },
   "file_extension": ".py",
   "mimetype": "text/x-python",
   "name": "python",
   "nbconvert_exporter": "python",
   "pygments_lexer": "ipython3",
   "version": "3.7.3"
  }
 },
 "nbformat": 4,
 "nbformat_minor": 2
}
